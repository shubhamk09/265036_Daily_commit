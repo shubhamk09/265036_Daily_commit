{
 "cells": [
  {
   "cell_type": "code",
   "execution_count": 1,
   "metadata": {
    "collapsed": true
   },
   "outputs": [
    {
     "name": "stdout",
     "output_type": "stream",
     "text": [
      "4\n"
     ]
    }
   ],
   "source": [
    "str = \"spamspamspamspam\"\n",
    "\n",
    "print(str.count(\"spam\"))\n"
   ]
  },
  {
   "cell_type": "code",
   "execution_count": 7,
   "outputs": [
    {
     "name": "stdout",
     "output_type": "stream",
     "text": [
      "2\n"
     ]
    }
   ],
   "source": [
    "def count_substring(string, sub_string):\n",
    "    count = 0\n",
    "    temp=\"\"\n",
    "    for i in range(len(string)):\n",
    "        if string[i] == sub_string[0]:\n",
    "            temp = string[i:]\n",
    "            if len(temp) >= len(sub_string):\n",
    "                k = 0\n",
    "                j = 0\n",
    "                # for j in range(len(sub_string)):\n",
    "                #     if temp[k] != sub_string[j]:\n",
    "                #         break\n",
    "                #     k+=1\n",
    "                while j<len(sub_string):\n",
    "                    if temp[k] != sub_string[j]:\n",
    "                        break\n",
    "                    k+=1\n",
    "                    j+=1\n",
    "\n",
    "                if j==len(sub_string):\n",
    "                    count+=1\n",
    "\n",
    "    return count\n",
    "\n",
    "\n",
    "string = input().strip()\n",
    "sub_string = input().strip()\n",
    "\n",
    "count = count_substring(string, sub_string)\n",
    "print(count)"
   ],
   "metadata": {
    "collapsed": false,
    "pycharm": {
     "name": "#%%\n"
    }
   }
  },
  {
   "cell_type": "code",
   "execution_count": null,
   "outputs": [],
   "source": [],
   "metadata": {
    "collapsed": false,
    "pycharm": {
     "name": "#%%\n"
    }
   }
  }
 ],
 "metadata": {
  "kernelspec": {
   "display_name": "Python 3",
   "language": "python",
   "name": "python3"
  },
  "language_info": {
   "codemirror_mode": {
    "name": "ipython",
    "version": 2
   },
   "file_extension": ".py",
   "mimetype": "text/x-python",
   "name": "python",
   "nbconvert_exporter": "python",
   "pygments_lexer": "ipython2",
   "version": "2.7.6"
  }
 },
 "nbformat": 4,
 "nbformat_minor": 0
}