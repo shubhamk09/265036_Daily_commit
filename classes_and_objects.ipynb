{
 "cells": [
  {
   "cell_type": "code",
   "execution_count": 8,
   "metadata": {
    "collapsed": true
   },
   "outputs": [],
   "source": [
    "class Cat:\n",
    "  def __init__(self, color, legs):\n",
    "    self.color = color\n",
    "    self.legs = legs\n",
    "    def voice(self):\n",
    "        print(\"meawo\")\n",
    "\n",
    "felix = Cat(\"ginger\", 4)\n",
    "rover = Cat(\"dog-colored\", 4)\n",
    "stumpy = Cat(\"brown\", 3)"
   ]
  },
  {
   "cell_type": "code",
   "execution_count": 9,
   "outputs": [
    {
     "name": "stdout",
     "output_type": "stream",
     "text": [
      "ginger\n"
     ]
    }
   ],
   "source": [
    "print(felix.color)"
   ],
   "metadata": {
    "collapsed": false,
    "pycharm": {
     "name": "#%%\n"
    }
   }
  },
  {
   "cell_type": "code",
   "execution_count": 10,
   "outputs": [
    {
     "name": "stdout",
     "output_type": "stream",
     "text": [
      "this is child of Cat class\n"
     ]
    }
   ],
   "source": [
    "class blackcat(Cat):\n",
    "    def __init__(self):\n",
    "        print(\"this is child of Cat class\")\n",
    "\n",
    "fig = blackcat()"
   ],
   "metadata": {
    "collapsed": false,
    "pycharm": {
     "name": "#%%\n"
    }
   }
  },
  {
   "cell_type": "code",
   "execution_count": 11,
   "outputs": [
    {
     "name": "stdout",
     "output_type": "stream",
     "text": [
      "2\n"
     ]
    }
   ],
   "source": [
    "# class A:\n",
    "#   def method(self):\n",
    "#     print(1)\n",
    "#\n",
    "# class B(A):\n",
    "#   def method(self):\n",
    "#     print(2)\n",
    "#\n",
    "# B().method()"
   ],
   "metadata": {
    "collapsed": false,
    "pycharm": {
     "name": "#%%\n"
    }
   }
  },
  {
   "cell_type": "code",
   "execution_count": 14,
   "outputs": [
    {
     "name": "stdout",
     "output_type": "stream",
     "text": [
      "2\n"
     ]
    }
   ],
   "source": [
    "class A:\n",
    "  def a(self):\n",
    "    print(1)\n",
    "class B(A):\n",
    "  def a(self):\n",
    "    print(2)\n",
    "\n",
    "class C(B):\n",
    "  def c(self):\n",
    "    print(3)\n",
    "\n",
    "c = C()\n",
    "c.a()"
   ],
   "metadata": {
    "collapsed": false,
    "pycharm": {
     "name": "#%%\n"
    }
   }
  },
  {
   "cell_type": "code",
   "execution_count": 1,
   "outputs": [],
   "source": [
    "class GameObject:\n",
    "  class_name = \"\"\n",
    "  desc = \"\"\n",
    "  objects = {}\n",
    "\n",
    "  def __init__(self, name):\n",
    "    self.name = name\n",
    "    GameObject.objects[self.class_name] = self\n",
    "\n",
    "  def get_desc(self):\n",
    "    return self.class_name + \"\\n\" + self.desc\n",
    "\n",
    "class Goblin(GameObject):\n",
    "  class_name = \"goblin\"\n",
    "  desc = \"A foul creature\"\n",
    "\n",
    "goblin = Goblin(\"Gobbly\")\n",
    "\n",
    "def examine(noun):\n",
    "  if noun in GameObject.objects:\n",
    "    return GameObject.objects[noun].get_desc()\n",
    "  else:\n",
    "    return \"There is no {} here.\".format(noun)"
   ],
   "metadata": {
    "collapsed": false,
    "pycharm": {
     "name": "#%%\n"
    }
   }
  },
  {
   "cell_type": "code",
   "execution_count": null,
   "outputs": [],
   "source": [
    "class Goblin(GameObject):\n",
    "  def __init__(self, name):\n",
    "    self.class_name = \"goblin\"\n",
    "    self.health = 3\n",
    "    self._desc = \" A foul creature\"\n",
    "    super().__init__(name)\n",
    "\n",
    "  @property\n",
    "  def desc(self):\n",
    "    if self.health >=3:\n",
    "      return self._desc\n",
    "    elif self.health == 2:\n",
    "      health_line = \"It has a wound on its knee.\"\n",
    "    elif self.health == 1:\n",
    "      health_line = \"Its left arm has been cut off!\"\n",
    "    elif self.health <= 0:\n",
    "      health_line = \"It is dead.\"\n",
    "    return self._desc + \"\\n\" + health_line\n",
    "\n",
    "  @desc.setter\n",
    "  def desc(self, value):\n",
    "    self._desc = value\n",
    "\n",
    "def hit(noun):\n",
    "  if noun in GameObject.objects:\n",
    "    thing = GameObject.objects[noun]\n",
    "    if type(thing) == Goblin:\n",
    "      thing.health = thing.health - 1\n",
    "      if thing.health <= 0:\n",
    "        msg = \"You killed the goblin!\"\n",
    "      else:\n",
    "        msg = \"You hit the {}\".format(thing.class_name)\n",
    "  else:\n",
    "    msg =\"There is no {} here.\".format(noun)\n",
    "  return msg"
   ],
   "metadata": {
    "collapsed": false,
    "pycharm": {
     "name": "#%%\n"
    }
   }
  }
 ],
 "metadata": {
  "kernelspec": {
   "display_name": "Python 3",
   "language": "python",
   "name": "python3"
  },
  "language_info": {
   "codemirror_mode": {
    "name": "ipython",
    "version": 2
   },
   "file_extension": ".py",
   "mimetype": "text/x-python",
   "name": "python",
   "nbconvert_exporter": "python",
   "pygments_lexer": "ipython2",
   "version": "2.7.6"
  }
 },
 "nbformat": 4,
 "nbformat_minor": 0
}